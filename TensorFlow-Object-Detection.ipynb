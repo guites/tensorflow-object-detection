{
 "cells": [
  {
   "cell_type": "markdown",
   "id": "7e209cdb-ca9d-48ce-866b-a88c0f211f25",
   "metadata": {},
   "source": [
    "# Train Object Detection Model"
   ]
  },
  {
   "cell_type": "markdown",
   "id": "ae3c2ae8-32cc-4723-b760-adc83479fd2f",
   "metadata": {},
   "source": [
    "## Download and prepare dataset"
   ]
  },
  {
   "cell_type": "markdown",
   "id": "20e9cb04-92b5-4ea2-a0c5-f942b11b751e",
   "metadata": {},
   "source": [
    "### Download desired dataset from AutoML Station's Marketplace\n",
    "\n",
    "**Example:**\n",
    "- Download `PPE - Personal Protective Equipment` from ***[AutoML Station's Marketplace](https://marketplace.amlstation.com/datasets/1)***;\n",
    "- Place `PPE-Detection.zip` inside `tensorflow-object-detection/datasets` and unzip it;"
   ]
  },
  {
   "cell_type": "markdown",
   "id": "9dbbdd3b-03fb-4c85-ae25-48555f0f8df3",
   "metadata": {},
   "source": [
    "### Prepare dataset for training\n",
    "\n",
    "The following code blocks will split the dataset into three sets:\n",
    "\n",
    "- 70% of the images will be used for training\n",
    "- 20% of the images will be used for validation\n",
    "- 10% of the images will be saved for testing the model after training\n",
    "\n",
    "Feel free to change the `train_fraction` and `validation_fraction` values.\n",
    "\n",
    "If you do not wish test the model, just set `validation_fraction` to `None`.\n",
    "\n",
    "The `random_state` variable assures that the split will be reproductible for the same train and validation fractions."
   ]
  },
  {
   "cell_type": "code",
   "execution_count": null,
   "id": "76799fbd-105b-4feb-b72f-b9d8a9e66ff6",
   "metadata": {
    "scrolled": true
   },
   "outputs": [],
   "source": [
    "# Change into source code directory\n",
    "%cd /workspace/src"
   ]
  },
  {
   "cell_type": "code",
   "execution_count": null,
   "id": "b46cc9b1-03bb-48af-8c7d-7db551d623ee",
   "metadata": {},
   "outputs": [],
   "source": [
    "# Necessary imports\n",
    "from dataset_utils import split_dataset"
   ]
  },
  {
   "cell_type": "code",
   "execution_count": null,
   "id": "440df930-ebdb-4c2c-b9d4-4b56b315e4f7",
   "metadata": {},
   "outputs": [],
   "source": [
    "# Define variables\n",
    "dataset_name = \"PPE-Detection\"\n",
    "train_fraction = 0.8\n",
    "validation_fraction = 0.1\n",
    "random_state = 42"
   ]
  },
  {
   "cell_type": "code",
   "execution_count": null,
   "id": "54fd21bf-e708-48b0-9950-fba083013213",
   "metadata": {},
   "outputs": [],
   "source": [
    "# Perform dataset split, overrides previous existing splits\n",
    "split_dataset(\n",
    "    dataset_name,\n",
    "    train_fraction,\n",
    "    validation_fraction,\n",
    "    random_state\n",
    ")"
   ]
  },
  {
   "cell_type": "markdown",
   "id": "c9784d5a-f1da-4618-9f3a-5c78eae00cd5",
   "metadata": {},
   "source": [
    "## Download pre-trained model and train your own custom model"
   ]
  },
  {
   "cell_type": "markdown",
   "id": "afc9ce2b-7abf-44f0-8b37-9c637f6de021",
   "metadata": {},
   "source": [
    "### Download pre-trained model\n",
    "\n",
    "- Download `SSD MobileNet V2 320x320 - COCO 2017` from ***[AutoML Station's Marketplace](https://marketplace.amlstation.com/models/6)***;\n",
    "- Place `mobilenet_ssd.zip` inside `tensorflow-object-detection/models` and unzip it;"
   ]
  },
  {
   "cell_type": "code",
   "execution_count": null,
   "id": "797a668a-2d12-4225-9de8-7d3f322fc155",
   "metadata": {
    "scrolled": true
   },
   "outputs": [],
   "source": [
    "# Required variables\n",
    "\n",
    "base_model_name = \"mobilenet_ssd\"\n",
    "output_model_name = f\"{base_model_name}_{dataset_name}\"\n",
    "input_shape = \"224 224\"\n",
    "num_train_steps = 10000\n",
    "warmup_steps = 1000\n",
    "batch_size = 4\n",
    "learning_rate = 0.001\n",
    "evaluate = 1"
   ]
  },
  {
   "cell_type": "markdown",
   "id": "f1fe9bd3-61a5-4b34-a10d-0157d6976c67",
   "metadata": {},
   "source": [
    "The following code block will start training the model to the set of parameters defined above.\n",
    "\n",
    "A checkpoint file will be produced every 1000 steps, in the format:\n",
    "\n",
    "- ckpt-9.index\n",
    "- ckpt-9.data-00000-of-00001\n",
    "- ckpt-8.index\n",
    "- ckpt-8.data-00000-of-00001\n",
    "- ...\n",
    "\n",
    "If you **lose connection** or need to **stop the training halfway**, just restart the notebook and the **training will start from the latest checkpoint**."
   ]
  },
  {
   "cell_type": "code",
   "execution_count": null,
   "id": "d3ababb0-3847-4b0d-9579-2b5a9bcb3d70",
   "metadata": {
    "scrolled": true
   },
   "outputs": [],
   "source": [
    "!python3 /workspace/src/train_object_detection_model.py\\\n",
    " --dataset_name {dataset_name}\\\n",
    " --output_model_name {output_model_name}\\\n",
    " --base_model_name {base_model_name}\\\n",
    " --input_shape {input_shape}\\\n",
    " --num_train_steps {num_train_steps}\\\n",
    " --warmup_steps {warmup_steps}\\\n",
    " --batch_size {batch_size}\\\n",
    " --learning_rate {learning_rate}\\\n",
    " --evaluate {evaluate} \\\n",
    " --"
   ]
  },
  {
   "cell_type": "markdown",
   "id": "b6414802-d4d9-497c-ad3e-a4c226b0f569",
   "metadata": {},
   "source": [
    "# Run Object Detection Inferences With TensorFlow Lite "
   ]
  },
  {
   "cell_type": "markdown",
   "id": "d46bf6d4-7e33-4214-ad8c-0590ad37b3ad",
   "metadata": {},
   "source": [
    "### Download desired pre-trained model\n",
    "\n",
    "**Example:**\n",
    "- Download `SSD MobileNet V2 320x320 - COCO 2017` from ***[AutoML Station's Marketplace](https://marketplace.amlstation.com/models/6)***;\n",
    "- Place `mobilenet_ssd.zip` inside `tensorflow-object-detection/models` and unzip it;"
   ]
  },
  {
   "cell_type": "code",
   "execution_count": null,
   "id": "b31a8aed-4467-4f85-9bde-5e9397546e13",
   "metadata": {},
   "outputs": [],
   "source": [
    "model_name = \"mobilenet_ssd\"\n",
    "input_directory = f\"/workspace/sample_images\"\n",
    "output_directory = f\"/workspace/inference_output_images/sample_images\"\n",
    "score_threshold = 0.4"
   ]
  },
  {
   "cell_type": "code",
   "execution_count": null,
   "id": "6b32ec7a-76c2-43b3-8c7b-a246e40d0c8c",
   "metadata": {
    "scrolled": true
   },
   "outputs": [],
   "source": [
    "!python3 /workspace/src/object_detection_tf_lite_inferences.py\\\n",
    " --model_name {model_name}\\\n",
    " --input_directory {input_directory}\\\n",
    " --output_directory {output_directory}\\\n",
    " --score_threshold {score_threshold}"
   ]
  },
  {
   "cell_type": "code",
   "execution_count": null,
   "id": "8c8f8e16-72b5-44f9-8fbb-b07ad5c8f915",
   "metadata": {},
   "outputs": [],
   "source": []
  }
 ],
 "metadata": {
  "kernelspec": {
   "display_name": "Python 3 (ipykernel)",
   "language": "python",
   "name": "python3"
  },
  "language_info": {
   "codemirror_mode": {
    "name": "ipython",
    "version": 3
   },
   "file_extension": ".py",
   "mimetype": "text/x-python",
   "name": "python",
   "nbconvert_exporter": "python",
   "pygments_lexer": "ipython3",
   "version": "3.8.10"
  }
 },
 "nbformat": 4,
 "nbformat_minor": 5
}
